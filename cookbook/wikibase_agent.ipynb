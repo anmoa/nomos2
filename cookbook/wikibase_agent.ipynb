{
 "cells": [
  {
   "cell_type": "markdown",
   "id": "8f4a9a02",
   "metadata": {},
   "source": [
    "# Wikibase Agent <a target=\"_blank\" href=\"https://colab.research.google.com/github/dowhiledev/nomos/blob/main/cookbook/wikibase_agent.ipynb\"><img src=\"https://colab.research.google.com/assets/colab-badge.svg\" alt=\"Open In Colab\"/></a>\n",
    "\n",
    "> This cookbook is inspired by the [Langchain's Implementation of WikiBase Agent](https://github.com/langchain-ai/langchain/blob/master/cookbook/wikibase_agent.ipynb)\n",
    "\n",
    "This notebook demonstrates a very simple wikibase agent that uses sparql generation. Although this code is intended to work against any\n",
    "wikibase instance, we use http://wikidata.org for testing."
   ]
  },
  {
   "cell_type": "markdown",
   "id": "4929e643",
   "metadata": {},
   "source": [
    "## Setup\n",
    "\n",
    "For this cookbook, we only require to install the `nomos` package. rest of the dependancies are already installed in the environment."
   ]
  },
  {
   "cell_type": "code",
   "execution_count": null,
   "id": "fd0d2799",
   "metadata": {},
   "outputs": [],
   "source": [
    "!pip install nomos -U"
   ]
  },
  {
   "cell_type": "markdown",
   "id": "acc03ec6",
   "metadata": {},
   "source": [
    "## Tools\n",
    "We will require 3 tools for this simple agent:\n",
    "- `item_lookup`: for finding the q-number of an item\n",
    "- `property_lookup`: for finding the p-number of a property\n",
    "- `run_sparql`: for running a sparql query\n",
    "\n",
    "We will create these tools in this section. (These are straight from the [Langchain's Implementation of WikiBase Agent](https://github.com/langchain-ai/langchain/blob/master/cookbook/wikibase_agent.ipynb) with minor modifications)"
   ]
  },
  {
   "cell_type": "code",
   "execution_count": 1,
   "id": "19227c9a",
   "metadata": {},
   "outputs": [],
   "source": [
    "from typing import Any, List, Optional\n",
    "\n",
    "import requests\n",
    "\n",
    "def get_nested_value(o: dict, path: list) -> any:\n",
    "    current = o\n",
    "    for key in path:\n",
    "        try:\n",
    "            current = current[key]\n",
    "        except (KeyError, IndexError):\n",
    "            return None\n",
    "    return current\n",
    "\n",
    "\n",
    "def vocab_lookup(\n",
    "    search: str,\n",
    "    entity_type: str = \"item\",\n",
    "    url: str = \"https://www.wikidata.org/w/api.php\",\n",
    "    user_agent_headers: Optional[str] = None,\n",
    "    sqriprofile: Optional[str] = None,\n",
    ") -> str:\n",
    "    headers = {\"Accept\": \"application/json\"}\n",
    "    if user_agent_headers:\n",
    "        headers[\"User-Agent\"] = user_agent_headers\n",
    "\n",
    "    assert entity_type in [\"item\", \"property\"], \"entity_type must be 'item' or 'property'\"\n",
    "    srnamespace = 0 if entity_type == \"item\" else 120\n",
    "    sqriprofile = sqriprofile or \"classic_noboostlinks\" if entity_type == \"item\" else \"classic\"\n",
    "\n",
    "    params = {\n",
    "        \"action\": \"query\",\n",
    "        \"list\": \"search\",\n",
    "        \"srsearch\": search,\n",
    "        \"srwhat\": \"text\",\n",
    "        \"format\": \"json\",\n",
    "        \"type\": entity_type,\n",
    "        \"srlimit\": 1,\n",
    "        \"srnamespace\": srnamespace,\n",
    "        \"sqriprofile\": sqriprofile,\n",
    "    }\n",
    "\n",
    "    response = requests.get(url, headers=headers, params=params)\n",
    "\n",
    "    if response.status_code != 200:\n",
    "        raise Exception(f\"Error {response.status_code}: {response.text}\")\n",
    "    title = get_nested_value(response.json(), [\"query\", \"search\", 0, \"title\"])\n",
    "    assert title, f\"I couldn't find any {entity_type} for '{search}'. Please rephrase your request and try again\"\n",
    "    return str(title).split(\":\")[-1]\n",
    "\n",
    "\n",
    "def run_sparql_advanced(\n",
    "    query: str,\n",
    "    url=\"https://query.wikidata.org/sparql\",\n",
    "    user_agent_header: Optional[str] = None,\n",
    ") -> Any: # noqa\n",
    "    headers = {\"Accept\": \"application/json\"}\n",
    "    if user_agent_header:\n",
    "        headers[\"User-Agent\"] = user_agent_header\n",
    "\n",
    "    response = requests.get(\n",
    "        url, headers=headers, params={\"query\": query, \"format\": \"json\"}\n",
    "    )\n",
    "\n",
    "    if response.status_code != 200:\n",
    "        raise Exception(f\"Error {response.status_code}: {response.text}\")\n",
    "    results = get_nested_value(response.json(), [\"results\", \"bindings\"])\n",
    "    return results"
   ]
  },
  {
   "cell_type": "code",
   "execution_count": 2,
   "id": "60c12686",
   "metadata": {},
   "outputs": [
    {
     "name": "stdout",
     "output_type": "stream",
     "text": [
      "Q4180017 P7125\n"
     ]
    }
   ],
   "source": [
    "print(vocab_lookup(\"Malin 1\"), vocab_lookup(\"instance of\", entity_type=\"property\"))"
   ]
  },
  {
   "cell_type": "code",
   "execution_count": 3,
   "id": "6c3f0d0d",
   "metadata": {},
   "outputs": [
    {
     "ename": "AssertionError",
     "evalue": "I couldn't find any item for 'Ceci n'est pas un q-item'. Please rephrase your request and try again",
     "output_type": "error",
     "traceback": [
      "\u001b[0;31m---------------------------------------------------------------------------\u001b[0m",
      "\u001b[0;31mAssertionError\u001b[0m                            Traceback (most recent call last)",
      "Cell \u001b[0;32mIn[3], line 1\u001b[0m\n\u001b[0;32m----> 1\u001b[0m \u001b[38;5;28mprint\u001b[39m(\u001b[43mvocab_lookup\u001b[49m\u001b[43m(\u001b[49m\u001b[38;5;124;43m\"\u001b[39;49m\u001b[38;5;124;43mCeci n\u001b[39;49m\u001b[38;5;124;43m'\u001b[39;49m\u001b[38;5;124;43mest pas un q-item\u001b[39;49m\u001b[38;5;124;43m\"\u001b[39;49m\u001b[43m)\u001b[49m) \u001b[38;5;66;03m# Should raise an error since the item does not exist\u001b[39;00m\n",
      "Cell \u001b[0;32mIn[1], line 47\u001b[0m, in \u001b[0;36mvocab_lookup\u001b[0;34m(search, entity_type, url, user_agent_headers, sqriprofile)\u001b[0m\n\u001b[1;32m     45\u001b[0m     \u001b[38;5;28;01mraise\u001b[39;00m \u001b[38;5;167;01mException\u001b[39;00m(\u001b[38;5;124mf\u001b[39m\u001b[38;5;124m\"\u001b[39m\u001b[38;5;124mError \u001b[39m\u001b[38;5;132;01m{\u001b[39;00mresponse\u001b[38;5;241m.\u001b[39mstatus_code\u001b[38;5;132;01m}\u001b[39;00m\u001b[38;5;124m: \u001b[39m\u001b[38;5;132;01m{\u001b[39;00mresponse\u001b[38;5;241m.\u001b[39mtext\u001b[38;5;132;01m}\u001b[39;00m\u001b[38;5;124m\"\u001b[39m)\n\u001b[1;32m     46\u001b[0m title \u001b[38;5;241m=\u001b[39m get_nested_value(response\u001b[38;5;241m.\u001b[39mjson(), [\u001b[38;5;124m\"\u001b[39m\u001b[38;5;124mquery\u001b[39m\u001b[38;5;124m\"\u001b[39m, \u001b[38;5;124m\"\u001b[39m\u001b[38;5;124msearch\u001b[39m\u001b[38;5;124m\"\u001b[39m, \u001b[38;5;241m0\u001b[39m, \u001b[38;5;124m\"\u001b[39m\u001b[38;5;124mtitle\u001b[39m\u001b[38;5;124m\"\u001b[39m])\n\u001b[0;32m---> 47\u001b[0m \u001b[38;5;28;01massert\u001b[39;00m title, \u001b[38;5;124mf\u001b[39m\u001b[38;5;124m\"\u001b[39m\u001b[38;5;124mI couldn\u001b[39m\u001b[38;5;124m'\u001b[39m\u001b[38;5;124mt find any \u001b[39m\u001b[38;5;132;01m{\u001b[39;00mentity_type\u001b[38;5;132;01m}\u001b[39;00m\u001b[38;5;124m for \u001b[39m\u001b[38;5;124m'\u001b[39m\u001b[38;5;132;01m{\u001b[39;00msearch\u001b[38;5;132;01m}\u001b[39;00m\u001b[38;5;124m'\u001b[39m\u001b[38;5;124m. Please rephrase your request and try again\u001b[39m\u001b[38;5;124m\"\u001b[39m\n\u001b[1;32m     48\u001b[0m \u001b[38;5;28;01mreturn\u001b[39;00m \u001b[38;5;28mstr\u001b[39m(title)\u001b[38;5;241m.\u001b[39msplit(\u001b[38;5;124m\"\u001b[39m\u001b[38;5;124m:\u001b[39m\u001b[38;5;124m\"\u001b[39m)[\u001b[38;5;241m-\u001b[39m\u001b[38;5;241m1\u001b[39m]\n",
      "\u001b[0;31mAssertionError\u001b[0m: I couldn't find any item for 'Ceci n'est pas un q-item'. Please rephrase your request and try again"
     ]
    }
   ],
   "source": [
    "print(vocab_lookup(\"Ceci n'est pas un q-item\")) # Should raise an error since the item does not exist"
   ]
  },
  {
   "cell_type": "code",
   "execution_count": 4,
   "id": "a4f33d35",
   "metadata": {},
   "outputs": [
    {
     "data": {
      "text/plain": [
       "[{'count': {'datatype': 'http://www.w3.org/2001/XMLSchema#integer',\n",
       "   'type': 'literal',\n",
       "   'value': '20'}}]"
      ]
     },
     "execution_count": 4,
     "metadata": {},
     "output_type": "execute_result"
    }
   ],
   "source": [
    "run_sparql_advanced(\"SELECT (COUNT(?children) as ?count) WHERE { wd:Q1339 wdt:P40 ?children . }\")"
   ]
  },
  {
   "cell_type": "markdown",
   "id": "405e8757",
   "metadata": {},
   "source": [
    "These tools have unnecssary attributes we dont want the agent to interact with so we will remove them by creating a simple wrapper functions."
   ]
  },
  {
   "cell_type": "code",
   "execution_count": 5,
   "id": "19db611d",
   "metadata": {},
   "outputs": [],
   "source": [
    "def run_sparql(query: str) -> List[dict]:\n",
    "    \"\"\"Gets the results of a SPARQL query from Wikidata.\"\"\"\n",
    "    return run_sparql_advanced(query)\n",
    "\n",
    "def item_lookup(search: str) -> str:\n",
    "    \"\"\"Useful for when you need to know the q-number for an item\"\"\"\n",
    "    return vocab_lookup(search, entity_type=\"item\")\n",
    "\n",
    "def property_lookup(search: str) -> str:\n",
    "    \"\"\"Useful for when you need to know the p-number for a property\"\"\"\n",
    "    return vocab_lookup(search, entity_type=\"property\")"
   ]
  },
  {
   "cell_type": "markdown",
   "id": "ad40f11a",
   "metadata": {},
   "source": [
    "## Agent\n",
    "\n",
    "Here will create a simple agent that uses the tools and answers the question. We will use `Nomos` to create the agent and run it.\n",
    "For the time being. we will create only a single step agent."
   ]
  },
  {
   "cell_type": "code",
   "execution_count": 6,
   "id": "6b232038",
   "metadata": {},
   "outputs": [],
   "source": [
    "import os\n",
    "import getpass\n",
    "\n",
    "os.environ[\"OPENAI_API_KEY\"] = getpass.getpass(\"Enter your OpenAI API key: \")\n",
    "os.environ[\"ENABLE_NOMOS_LOGGING\"] = \"true\""
   ]
  },
  {
   "cell_type": "code",
   "execution_count": 7,
   "id": "729ddfdc",
   "metadata": {},
   "outputs": [],
   "source": [
    "from nomos import *\n",
    "from nomos.llms import LLMConfig\n",
    "\n",
    "step_instructions = \"\"\"\n",
    "Answer the following questions by running a sparql query against a wikibase where the p and q items are \n",
    "completely unknown to you. You will need to discover the p and q items before you can generate the sparql.\n",
    "Do not assume you know the p and q items for any concepts. Always use tools to find all p and q items.\n",
    "After you generate the sparql, you should run it. The results will be returned in json. \n",
    "Summarize the json results in natural language.\n",
    "\n",
    "You may assume the following prefixes:\n",
    "PREFIX wd: <http://www.wikidata.org/entity/>\n",
    "PREFIX wdt: <http://www.wikidata.org/prop/direct/>\n",
    "PREFIX p: <http://www.wikidata.org/prop/>\n",
    "PREFIX ps: <http://www.wikidata.org/prop/statement/>\n",
    "\n",
    "When generating sparql:\n",
    "* Try to avoid \"count\" and \"filter\" queries if possible\n",
    "* Never enclose the sparql in back-quotes\n",
    "\"\"\"\n",
    "\n",
    "start_step = Step(\n",
    "    step_id=\"start\",\n",
    "    description=step_instructions,\n",
    "    available_tools=[\"run_sparql\", \"item_lookup\", \"property_lookup\"],\n",
    ")\n",
    "\n",
    "llm = LLMConfig(\n",
    "    provider=\"openai\",\n",
    "    model=\"gpt-4o-mini\",\n",
    ").get_llm()\n",
    "\n",
    "agent = Agent(\n",
    "    name=\"Wikidata SPARQL Agent\",\n",
    "    steps=[start_step],\n",
    "    start_step_id=\"start\",\n",
    "    tools=[run_sparql, item_lookup, property_lookup],\n",
    "    llm=llm,\n",
    ")"
   ]
  },
  {
   "cell_type": "code",
   "execution_count": null,
   "id": "b2965812",
   "metadata": {},
   "outputs": [
    {
     "data": {
      "text/plain": [
       "'J.S. Bach had 20 children.'"
      ]
     },
     "execution_count": 10,
     "metadata": {},
     "output_type": "execute_result"
    }
   ],
   "source": [
    "res = agent.next(\"How many children did J.S. Bach have?\")\n",
    "res.decision.response"
   ]
  },
  {
   "cell_type": "code",
   "execution_count": null,
   "id": "5d1e4e75",
   "metadata": {},
   "outputs": [
    {
     "data": {
      "text/plain": [
       "\"Hakeem Olajuwon's Basketball-Reference.com NBA player ID is 'o/olajuha01'.\""
      ]
     },
     "execution_count": 11,
     "metadata": {},
     "output_type": "execute_result"
    }
   ],
   "source": [
    "res = agent.next(\"What is the Basketball-Reference.com NBA player ID of Hakeem Olajuwon?\")\n",
    "res.decision.response"
   ]
  },
  {
   "cell_type": "markdown",
   "id": "bb81439f",
   "metadata": {},
   "source": [
    "You can also maintain sessions for continuous conversations."
   ]
  },
  {
   "cell_type": "code",
   "execution_count": null,
   "id": "2e243a32",
   "metadata": {},
   "outputs": [
    {
     "name": "stdout",
     "output_type": "stream",
     "text": [
      "The Basketball-Reference.com NBA player ID for Hakeem Olajuwon is 'o/olajuha01'.\n",
      "It seems that there is no direct information available about the year Hakeem Olajuwon retired in the data I queried. Would you like me to find his birth year so we can determine his age when he retired?\n"
     ]
    }
   ],
   "source": [
    "session = agent.create_session()\n",
    "res = session.next(\"What is the Basketball-Reference.com NBA player ID of Hakeem Olajuwon?\")\n",
    "print(res.decision.response)\n",
    "res = session.next(\"How old he was when he retired?\")\n",
    "print(res.decision.response)"
   ]
  },
  {
   "cell_type": "code",
   "execution_count": null,
   "id": "3b974803",
   "metadata": {},
   "outputs": [],
   "source": []
  }
 ],
 "metadata": {
  "kernelspec": {
   "display_name": "base",
   "language": "python",
   "name": "python3"
  },
  "language_info": {
   "codemirror_mode": {
    "name": "ipython",
    "version": 3
   },
   "file_extension": ".py",
   "mimetype": "text/x-python",
   "name": "python",
   "nbconvert_exporter": "python",
   "pygments_lexer": "ipython3",
   "version": "3.13.2"
  }
 },
 "nbformat": 4,
 "nbformat_minor": 5
}
